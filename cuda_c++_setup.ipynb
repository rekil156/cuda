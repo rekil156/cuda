{
  "nbformat": 4,
  "nbformat_minor": 0,
  "metadata": {
    "colab": {
      "name": "cuda_c++_setup.ipynb",
      "provenance": [],
      "authorship_tag": "ABX9TyNleST8MKcDKV2aGxAqvXR5",
      "include_colab_link": true
    },
    "kernelspec": {
      "name": "python3",
      "display_name": "Python 3"
    },
    "accelerator": "GPU"
  },
  "cells": [
    {
      "cell_type": "markdown",
      "metadata": {
        "id": "view-in-github",
        "colab_type": "text"
      },
      "source": [
        "<a href=\"https://colab.research.google.com/github/rekil156/cuda/blob/main/cuda_c%2B%2B_setup.ipynb\" target=\"_parent\"><img src=\"https://colab.research.google.com/assets/colab-badge.svg\" alt=\"Open In Colab\"/></a>"
      ]
    },
    {
      "cell_type": "code",
      "metadata": {
        "id": "3X3P__jgdN_-"
      },
      "source": [
        "from google.colab import drive\n",
        "drive.mount('/content/gdrive')    "
      ],
      "execution_count": null,
      "outputs": []
    },
    {
      "cell_type": "code",
      "metadata": {
        "id": "M9aH3gwrfIxs"
      },
      "source": [
        "%cd /content/gdrive/My\\ Drive/cuda"
      ],
      "execution_count": null,
      "outputs": []
    },
    {
      "cell_type": "markdown",
      "metadata": {
        "id": "_G1sNuLoLE4D"
      },
      "source": [
        "## Just two lines for CUDA + C++"
      ]
    },
    {
      "cell_type": "code",
      "metadata": {
        "id": "c3Fmg_OJLEj8",
        "outputId": "d1e59791-2e79-4a5e-f17f-74ed446df65b",
        "colab": {
          "base_uri": "https://localhost:8080/"
        }
      },
      "source": [
        "!pip install git+git://github.com/andreinechaev/nvcc4jupyter.git\n",
        "%load_ext nvcc_plugin"
      ],
      "execution_count": 1,
      "outputs": [
        {
          "output_type": "stream",
          "text": [
            "Collecting git+git://github.com/andreinechaev/nvcc4jupyter.git\n",
            "  Cloning git://github.com/andreinechaev/nvcc4jupyter.git to /tmp/pip-req-build-wlqt_hci\n",
            "  Running command git clone -q git://github.com/andreinechaev/nvcc4jupyter.git /tmp/pip-req-build-wlqt_hci\n",
            "Building wheels for collected packages: NVCCPlugin\n",
            "  Building wheel for NVCCPlugin (setup.py) ... \u001b[?25l\u001b[?25hdone\n",
            "  Created wheel for NVCCPlugin: filename=NVCCPlugin-0.0.2-cp36-none-any.whl size=4307 sha256=ea68560e73578f4470281db3552fe561c1d448a893250e0a46da31d9d70d4a08\n",
            "  Stored in directory: /tmp/pip-ephem-wheel-cache-54oumxy8/wheels/10/c2/05/ca241da37bff77d60d31a9174f988109c61ba989e4d4650516\n",
            "Successfully built NVCCPlugin\n",
            "Installing collected packages: NVCCPlugin\n",
            "Successfully installed NVCCPlugin-0.0.2\n",
            "created output directory at /content/src\n",
            "Out bin /content/result.out\n"
          ],
          "name": "stdout"
        }
      ]
    },
    {
      "cell_type": "code",
      "metadata": {
        "id": "9-ZcY5x7LLRn",
        "outputId": "7327f5de-9cc1-4b79-fa92-62a77abca19e",
        "colab": {
          "base_uri": "https://localhost:8080/"
        }
      },
      "source": [
        "!nvcc --version"
      ],
      "execution_count": 2,
      "outputs": [
        {
          "output_type": "stream",
          "text": [
            "nvcc: NVIDIA (R) Cuda compiler driver\n",
            "Copyright (c) 2005-2019 NVIDIA Corporation\n",
            "Built on Sun_Jul_28_19:07:16_PDT_2019\n",
            "Cuda compilation tools, release 10.1, V10.1.243\n"
          ],
          "name": "stdout"
        }
      ]
    },
    {
      "cell_type": "markdown",
      "metadata": {
        "id": "FxtE95dDH7Do"
      },
      "source": [
        "### BAsic example"
      ]
    },
    {
      "cell_type": "code",
      "metadata": {
        "id": "YuuR15VmJYhs"
      },
      "source": [
        "%%cu\n",
        "#include <stdio.h>\n",
        "#include <stdlib.h>\n",
        "__global__ void add(int *a, int *b, int *c) {\n",
        "*c = *a + *b;\n",
        "}\n",
        "int main() {\n",
        "int a, b, c;\n",
        "// host copies of variables a, b & c\n",
        "int *d_a, *d_b, *d_c;\n",
        "// device copies of variables a, b & c\n",
        "int size = sizeof(int);\n",
        "// Allocate space for device copies of a, b, c\n",
        "cudaMalloc((void **)&d_a, size);\n",
        "cudaMalloc((void **)&d_b, size);\n",
        "cudaMalloc((void **)&d_c, size);\n",
        "// Setup input values  \n",
        "c = 0;\n",
        "a = 3;\n",
        "b = 5;\n",
        "// Copy inputs to device\n",
        "cudaMemcpy(d_a, &a, size, cudaMemcpyHostToDevice);\n",
        "  cudaMemcpy(d_b, &b, size, cudaMemcpyHostToDevice);\n",
        "// Launch add() kernel on GPU\n",
        "add<<<1,1>>>(d_a, d_b, d_c);\n",
        "// Copy result back to host\n",
        "cudaError err = cudaMemcpy(&c, d_c, size, cudaMemcpyDeviceToHost);\n",
        "  if(err!=cudaSuccess) {\n",
        "      printf(\"CUDA error copying to Host: %s\\n\", cudaGetErrorString(err));\n",
        "  }\n",
        "printf(\"result is %d\\n\",c);\n",
        "// Cleanup\n",
        "cudaFree(d_a);\n",
        "cudaFree(d_b);\n",
        "cudaFree(d_c);\n",
        "return 0;\n",
        "}"
      ],
      "execution_count": null,
      "outputs": []
    },
    {
      "cell_type": "markdown",
      "metadata": {
        "id": "7ZclVpAUklNE"
      },
      "source": [
        "### Cube of a number "
      ]
    },
    {
      "cell_type": "code",
      "metadata": {
        "id": "-aw149w1kYGo",
        "outputId": "9e051002-91db-4f16-f553-16909cbff7a8",
        "colab": {
          "base_uri": "https://localhost:8080/"
        }
      },
      "source": [
        "%%cu\n",
        "#include <stdio.h>\n",
        "__global__ void cube(float* d_out, float* d_in)\n",
        "{\n",
        "    int idx = threadIdx.x;\n",
        "    float f = d_in[idx];\n",
        "    d_out[idx] = f * f *f;\n",
        "}\n",
        "int main()\n",
        "{\n",
        "    const int ARRAY_SIZE = 64;\n",
        "    const int ARRAY_BYTES = ARRAY_SIZE * sizeof(float);\n",
        " \n",
        " //memory on host \n",
        " float h_in[ARRAY_SIZE];\n",
        " float h_out[ARRAY_SIZE];\n",
        "\n",
        " for(int i=0; i < ARRAY_SIZE; i++)\n",
        " {\n",
        "     h_in[i] = i;\n",
        " } \n",
        "\n",
        " //memory on device \n",
        "  //int *ptr = (int*) malloc(100 * sizeof(int)); - in C \n",
        " //A void ** is just a pointer to a pointer to memory with an unspecified type. You can only dereference it once (since you can't dereference a void *).\n",
        " // However, apart from that, it is basically like any other pointer type. If it helps you, think of it the same way as you would with int *.\n",
        " \n",
        " float *d_in;\n",
        " float *d_out;\n",
        " cudaMalloc((void**)&d_in,ARRAY_BYTES); \n",
        " cudaMalloc((void**)&d_out,ARRAY_BYTES);\n",
        "\n",
        "\n",
        "\n",
        " cudaMalloc((void**)&d_out,ARRAY_BYTES);\n",
        "  //move from host to gpu/device\n",
        " cudaMemcpy(d_in,h_in,ARRAY_BYTES,cudaMemcpyHostToDevice);//dest,src \n",
        "\n",
        " //launch the kernel\n",
        " cube<<<1,ARRAY_SIZE>>>(d_out,d_in);\n",
        "\n",
        "//move from gpu/device to host\n",
        " cudaMemcpy(h_out,d_out,ARRAY_BYTES,cudaMemcpyDeviceToHost);\n",
        "\n",
        "//print the result \n",
        " for(int i=0; i <ARRAY_SIZE; i++)\n",
        " {\n",
        "     printf(\"%f\",h_out[i]);\n",
        "    printf(((i % 4) != 3)?\"\\t\":\"\\n\");\n",
        " }\n",
        " cudaFree(d_in);\n",
        " cudaFree(d_out);\n",
        "\n",
        " return 0;\n",
        "\n",
        "}"
      ],
      "execution_count": 12,
      "outputs": [
        {
          "output_type": "stream",
          "text": [
            "0.000000\t1.000000\t8.000000\t27.000000\n",
            "64.000000\t125.000000\t216.000000\t343.000000\n",
            "512.000000\t729.000000\t1000.000000\t1331.000000\n",
            "1728.000000\t2197.000000\t2744.000000\t3375.000000\n",
            "4096.000000\t4913.000000\t5832.000000\t6859.000000\n",
            "8000.000000\t9261.000000\t10648.000000\t12167.000000\n",
            "13824.000000\t15625.000000\t17576.000000\t19683.000000\n",
            "21952.000000\t24389.000000\t27000.000000\t29791.000000\n",
            "32768.000000\t35937.000000\t39304.000000\t42875.000000\n",
            "46656.000000\t50653.000000\t54872.000000\t59319.000000\n",
            "64000.000000\t68921.000000\t74088.000000\t79507.000000\n",
            "85184.000000\t91125.000000\t97336.000000\t103823.000000\n",
            "110592.000000\t117649.000000\t125000.000000\t132651.000000\n",
            "140608.000000\t148877.000000\t157464.000000\t166375.000000\n",
            "175616.000000\t185193.000000\t195112.000000\t205379.000000\n",
            "216000.000000\t226981.000000\t238328.000000\t250047.000000\n",
            "\n"
          ],
          "name": "stdout"
        }
      ]
    },
    {
      "cell_type": "markdown",
      "metadata": {
        "id": "N6jGJuuNrB1E"
      },
      "source": [
        "Solution"
      ]
    },
    {
      "cell_type": "code",
      "metadata": {
        "id": "myWOE4TRBDSJ",
        "outputId": "a82d83df-9515-46cf-f94f-1a409eb993d6",
        "colab": {
          "base_uri": "https://localhost:8080/"
        }
      },
      "source": [
        "%%cu\n",
        "#include <stdio.h>\n",
        "\n",
        "__global__ void cube(float * d_out, float * d_in){\n",
        "\t// Todo: Fill in this function\n",
        "\tint idx = threadIdx.x;\n",
        "\tfloat f = d_in[idx];\n",
        "\td_out[idx] = f * f * f;\n",
        "}\n",
        "\n",
        "int main(int argc, char ** argv) {\n",
        "\tconst int ARRAY_SIZE = 96;\n",
        "\tconst int ARRAY_BYTES = ARRAY_SIZE * sizeof(float);\n",
        "\n",
        "\t// generate the input array on the host\n",
        "\tfloat h_in[ARRAY_SIZE];\n",
        "\tfor (int i = 0; i < ARRAY_SIZE; i++) {\n",
        "\t\th_in[i] = float(i);\n",
        "\t}\n",
        "\tfloat h_out[ARRAY_SIZE];\n",
        "\n",
        "\t// declare GPU memory pointers\n",
        "\tfloat * d_in;\n",
        "\tfloat * d_out;\n",
        "\n",
        "\t// allocate GPU memory\n",
        "\tcudaMalloc((void**) &d_in, ARRAY_BYTES);\n",
        "\tcudaMalloc((void**) &d_out, ARRAY_BYTES);\n",
        "\n",
        "\t// transfer the array to the GPU\n",
        "\tcudaMemcpy(d_in, h_in, ARRAY_BYTES, cudaMemcpyHostToDevice);\n",
        "\n",
        "\t// launch the kernel\n",
        "\tcube<<<1, ARRAY_SIZE>>>(d_out, d_in);\n",
        "\n",
        "\t// copy back the result array to the CPU\n",
        "\tcudaMemcpy(h_out, d_out, ARRAY_BYTES, cudaMemcpyDeviceToHost);\n",
        "\n",
        "\t// print out the resulting array\n",
        "\tfor (int i =0; i < ARRAY_SIZE; i++) {\n",
        "\t\tprintf(\"%f\", h_out[i]);\n",
        "\t\tprintf(((i % 4) != 3) ? \"\\t\" : \"\\n\");\n",
        "\t}\n",
        "\n",
        "\tcudaFree(d_in);\n",
        "\tcudaFree(d_out);\n",
        "\n",
        "\treturn 0;\n",
        "}"
      ],
      "execution_count": 8,
      "outputs": [
        {
          "output_type": "stream",
          "text": [
            "0.000000\t1.000000\t8.000000\t27.000000\n",
            "64.000000\t125.000000\t216.000000\t343.000000\n",
            "512.000000\t729.000000\t1000.000000\t1331.000000\n",
            "1728.000000\t2197.000000\t2744.000000\t3375.000000\n",
            "4096.000000\t4913.000000\t5832.000000\t6859.000000\n",
            "8000.000000\t9261.000000\t10648.000000\t12167.000000\n",
            "13824.000000\t15625.000000\t17576.000000\t19683.000000\n",
            "21952.000000\t24389.000000\t27000.000000\t29791.000000\n",
            "32768.000000\t35937.000000\t39304.000000\t42875.000000\n",
            "46656.000000\t50653.000000\t54872.000000\t59319.000000\n",
            "64000.000000\t68921.000000\t74088.000000\t79507.000000\n",
            "85184.000000\t91125.000000\t97336.000000\t103823.000000\n",
            "110592.000000\t117649.000000\t125000.000000\t132651.000000\n",
            "140608.000000\t148877.000000\t157464.000000\t166375.000000\n",
            "175616.000000\t185193.000000\t195112.000000\t205379.000000\n",
            "216000.000000\t226981.000000\t238328.000000\t250047.000000\n",
            "262144.000000\t274625.000000\t287496.000000\t300763.000000\n",
            "314432.000000\t328509.000000\t343000.000000\t357911.000000\n",
            "373248.000000\t389017.000000\t405224.000000\t421875.000000\n",
            "438976.000000\t456533.000000\t474552.000000\t493039.000000\n",
            "512000.000000\t531441.000000\t551368.000000\t571787.000000\n",
            "592704.000000\t614125.000000\t636056.000000\t658503.000000\n",
            "681472.000000\t704969.000000\t729000.000000\t753571.000000\n",
            "778688.000000\t804357.000000\t830584.000000\t857375.000000\n",
            "\n"
          ],
          "name": "stdout"
        }
      ]
    },
    {
      "cell_type": "code",
      "metadata": {
        "id": "sc3AkTeyC2h2"
      },
      "source": [
        ""
      ],
      "execution_count": null,
      "outputs": []
    }
  ]
}